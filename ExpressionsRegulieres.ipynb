{
 "cells": [
  {
   "cell_type": "markdown",
   "metadata": {},
   "source": [
    "<h1 style=\"color: navy\">Les expressions regulières</h1>\n",
    " \n",
    "  ```                           #^0[1-68]([-. ]?[0-9]{2}){4}$# ```\n",
    " "
   ]
  },
  {
   "cell_type": "markdown",
   "metadata": {},
   "source": [
    "On désigne par \"*expressions régulières*\" ( ou encore par l'abbréviation **regex**: contraction de l'anglais *regular expressions*), une syntaxe permettant de représenter des modèles ou motif de chaine de caractère . </br>\n",
    "\n",
    "Voici un exemple de **regex**: </br>\n",
    "                                #^0[1-68]([-. ]?[0-9]{2}){4}$#  </br>  \n",
    "                                \n",
    "Cette regex permet d'identifier dans un texte, tout numéro de téléphone ( à 10 chiffres), et ce quelquesoit le format de saisie utilisé. </br>\n",
    "Très utiles, les *regex* sont présentes dans de nombreux langages: PHP; MySQL;Javascript; et également avec le langage Python (sous la forme du module **re**) </br>\n",
    "\n",
    "On les trouve aussi dans les éditeurs de texte (EDI) tels que: notepad++; Geany; ...:\n",
    "![image_1](Regex1.png)\n",
    "ainsi qu'avec les programmes: egrep ou sed en ligne de commande dans l'environnement Linux.\n",
    "\n",
    "Les expressions régulières sont utiles pour \"fouiller\" dans un fichier, à la recherche d'un texte. On parle alors de **parsing** (pour analyse syntaxique)."
   ]
  },
  {
   "cell_type": "markdown",
   "metadata": {},
   "source": [
    "Une expression régulière est une suite de caractères qui a pour but de décrire un fragment de texte. \n",
    "Cette suite de caractères est appelée *motif* (ou *pattern* en anglais). Ce motif est constitué de deux types de caractères: \n",
    "- Les caractères dits normaux.\n",
    "- Les métacaractères ayant une signification particulière, par exemple le caractère ^ signifie début de ligne et non pas le caractère « chapeau » au sens littéral."
   ]
  },
  {
   "cell_type": "markdown",
   "metadata": {},
   "source": [
    "#### Quelques éléments de syntaxe des métacaractères :\n",
    "\n",
    "**Tester les regex suivantes dans un éditeur de texte:**\n",
    "\n",
    "- La *regex* `^ATG` dans les chaînes de caractère `ATGCGT` ou `CCATGTT`.  Commentaire ?   \n",
    "- La *regex* `ATG$` dans les chaînes de caractères `TGCATG` ou `CCATGTT`. Commentaire ?   \n",
    "- La *regex* `A.G` dans `ATG`, `AtG`, `A4G`, `A-G` ou dans `A G`. Commentaire ?   \n",
    "- La *regex* `T[ABC]G` dans `TAG`, `TBG` `TCG` ou `TG`.  Commentaire ?  \n",
    "- La *regex* `C[A-Z]T` dans `CAT`, `CBT`, `CCT`.  Commentaire ?  \n",
    "- La *regex* `CG[^AB]T`dans `CG9T`, `CGCT` ou `CGAT` et `CGBT`. Commentaire ?  \n",
    "- La *regex* `\\+` désigne le caractère `+` littéral (caractère d'échappement '\\'  ==> la *regex* `A\\.G` est retrouvée dans `A.G` mais pas dans `AG`. A vérifier. Conclusion ?  \n",
    "- La *regex* `A(CG)*T` dans `AT`, `ACGT`, `ACGCGT`. Commentaire ?    \n",
    "- La *regex* `A(CG)+T` dans `ACGT`, `ACGCGT` et `AT`.  Commentaire ? \n",
    "- La *regex* `A(CG)?T` dans `AT` ou `ACGT`.     \n",
    "- La *regex* `A(CG){2}T` dans `ACGCGT` ou `ACGT`, `ACGCGCGT` ou encore `ACGCG`.  \n",
    "- La *regex* `A(C){2,4}T` dans `ACCT`, `ACCCT` et `ACCCCT` ou dans `ACT`, `ACCCCCT` ou encore `ACCC`.    \n",
    "- La *regex* `A(C){2,}T` dans `ACCT`, `ACCCT` et `ACCCCT` et `ACT` ou `ACCC`.   \n",
    "- La *regex* `A(C){,2}T` dans `AT`, `ACT`, `ACCT` ou `ACCCT` et `ACC`.   \n",
    "- La *regex* `A(CG|TT)C` dans `ACGC` ou `ATTC`.     \n"
   ]
  },
  {
   "cell_type": "markdown",
   "metadata": {},
   "source": [
    "#### Quelques ressources en ligne:\n",
    "\n",
    " * [Un tutoriel](https://regexone.com/) \n",
    " * [Pour visualiser les regex](https://regexr.com/) \n",
    " * [Une documentation exhaustive](https://www.regular-expressions.info) \n",
    " * [Interface](https://pythex.org/)\n"
   ]
  },
  {
   "cell_type": "markdown",
   "metadata": {},
   "source": [
    "<h2 class='fa fa-cog' style=\"color: SeaGreen\"> Le module: <span style=\"color: red\">re</span> </h2> </br>  \n",
    "\n",
    "Ce module permet d'utiliser les expressions régulières dans Python. </br>  \n",
    "\n",
    "Les fonctions associées au module **re**:\n",
    "\n",
    "- search() ==> teste l'existence d'une regex dans une chaine de caractère => True\n",
    "- match() et fullmatch() ==> vérifie l'existence de la regex, au début pour la première, en mode \"exacte\" pour la seconde.\n",
    "- compile() ==> pour compiler une regex\n",
    "- groupe() ==> pour récupérer la correspondance du motif (qui \"match\" avec la regex)!\n",
    "- start() et end() ==> donnent la position de début et de la fin de la zone qui correspond à la regex.\n",
    "- findall() ==> pour récupérer chaque zone qui \"match\"\n",
    "- sub() ==> pour remplacer la zone qui correspond à la regex, par une autre chaine de caractère."
   ]
  },
  {
   "cell_type": "markdown",
   "metadata": {},
   "source": [
    "### search()\n",
    "Pour rechercher un motif (la regex) dans une chaine. Si le motif est trouvé, un objet du type 're.Match' est renvoyé:  "
   ]
  },
  {
   "cell_type": "code",
   "execution_count": null,
   "metadata": {
    "scrolled": true
   },
   "outputs": [],
   "source": [
    "import re\n",
    "re.search(\"aiguille\", \"Autant chercher une aiguille dans une botte de foin !\")"
   ]
  },
  {
   "cell_type": "code",
   "execution_count": null,
   "metadata": {},
   "outputs": [],
   "source": [
    "import re\n",
    "re.search(\"aiguille\", \"Autant chercher une aiguille dans une botte de foin !\")\n",
    "if re.Match:\n",
    "    print(\"Trouvé !\")"
   ]
  },
  {
   "cell_type": "markdown",
   "metadata": {},
   "source": [
    "### match()\n",
    "Recherche le motif (la regex) au début de la chaine."
   ]
  },
  {
   "cell_type": "code",
   "execution_count": null,
   "metadata": {},
   "outputs": [],
   "source": [
    "import re\n",
    "re.match(\"aiguille\", \"Autant chercher une aiguille dans une botte de foin !\")\n",
    "re.match(\"Autant\", \"Autant chercher une aiguille dans une botte de foin !\")"
   ]
  },
  {
   "cell_type": "markdown",
   "metadata": {},
   "source": [
    "### fullmatch()\n",
    "Recherche la correspondance **exacte** du motif (la regex) avec la chaine."
   ]
  },
  {
   "cell_type": "code",
   "execution_count": null,
   "metadata": {},
   "outputs": [],
   "source": [
    "import re\n",
    "'''Effectuer les tests ci dessous un par un:'''\n",
    "#re.fullmatch(\"Ars longa, vita brevis\",\"Ars longa, vita brevis\")\n",
    "#re.fullmatch(\"aiguille\", \"Autant chercher une aiguille dans une botte de foin !\")\n",
    "#re.fullmatch(\"Le pouvoir d'une regex ad hoc!\",\"Le pouvoir d'une regex ad hoc!\")"
   ]
  },
  {
   "cell_type": "markdown",
   "metadata": {},
   "source": [
    "### compile()\n",
    "Pour créer un objet 're.Pattern' qui représente la regex: "
   ]
  },
  {
   "cell_type": "code",
   "execution_count": null,
   "metadata": {},
   "outputs": [],
   "source": [
    "regex = re.compile('saucisson')\n",
    "regex"
   ]
  },
  {
   "cell_type": "code",
   "execution_count": null,
   "metadata": {},
   "outputs": [],
   "source": [
    "type (regex)"
   ]
  },
  {
   "cell_type": "code",
   "execution_count": null,
   "metadata": {},
   "outputs": [],
   "source": [
    "regex.search(\"Le saucisson c'est bon, non ?\")"
   ]
  },
  {
   "cell_type": "markdown",
   "metadata": {},
   "source": [
    "### groupe() start() et end()\n",
    "Pour créer un objet 're.Pattern' qui représente la regex:"
   ]
  },
  {
   "cell_type": "code",
   "execution_count": null,
   "metadata": {},
   "outputs": [],
   "source": [
    "#un motif qui comprend un ou plusieurs chiffres, suivi d'un point,et de un ou plusieurs chiffres:\n",
    "regex = re.compile(\"([0-9]+),([0-9]+)\") \n",
    "resultat = regex.search(\"La constante de Boltzman est: 1,38064852 × 10^-23 m2.kg.s-2.K-1\")\n",
    "resultat.group(0) # => La totalité de la correspondance"
   ]
  },
  {
   "cell_type": "code",
   "execution_count": null,
   "metadata": {},
   "outputs": [],
   "source": [
    "resultat.group(1) # => La correspondance de la première parenthèse"
   ]
  },
  {
   "cell_type": "code",
   "execution_count": null,
   "metadata": {},
   "outputs": [],
   "source": [
    "resultat.group(2) # => et la correspondance avec la deuxième parenthèse"
   ]
  },
  {
   "cell_type": "code",
   "execution_count": null,
   "metadata": {},
   "outputs": [],
   "source": [
    "resultat.start()"
   ]
  },
  {
   "cell_type": "code",
   "execution_count": null,
   "metadata": {},
   "outputs": [],
   "source": [
    "resultat.end()"
   ]
  },
  {
   "cell_type": "markdown",
   "metadata": {},
   "source": [
    "### search() et findall()\n",
    "La méthode .search() est un peu fainéante, car elle ne renvoi que la première correspondance de la regex:"
   ]
  },
  {
   "cell_type": "code",
   "execution_count": null,
   "metadata": {},
   "outputs": [],
   "source": [
    "regex = re.compile(\"[0-9]+,[0-9]+\") # Attention: les groupes de () ont disparus\n",
    "resultat = regex.search(\"La constante d'Avogadro: 6,022 x 10^23 et le nombre pi: 3,14159265359\")\n",
    "resultat.group(0)                    "
   ]
  },
  {
   "cell_type": "code",
   "execution_count": null,
   "metadata": {},
   "outputs": [],
   "source": [
    "'''Quand il y a plusieurs correspondances possibles, la méthode .findall() renvoi la liste des correspondances:'''\n",
    "resultat = regex.findall(\"La constante d'Avogadro: 6,022 x 10^23 et le nombre pi: 3,14159265359\")\n",
    "resultat"
   ]
  },
  {
   "cell_type": "code",
   "execution_count": null,
   "metadata": {},
   "outputs": [],
   "source": [
    "regex = re.compile(\"([0-9]+),([0-9]+)\") # Réapparition des () => groupes !\n",
    "resultat = regex.findall(\"La constante d'Avogadro: 6,022 x 10^23 et le nombre pi: 3,14159265359\")\n",
    "resultat # A comparer avec ci-dessus: liste de tupples"
   ]
  },
  {
   "cell_type": "markdown",
   "metadata": {},
   "source": [
    "### sub()\n",
    "Une méthode pour remplacer les occurences de la regex:"
   ]
  },
  {
   "cell_type": "code",
   "execution_count": null,
   "metadata": {},
   "outputs": [],
   "source": [
    "regex = re.compile(\"[0-9]+,[0-9]+\")\n",
    "affirmation = \"La constante d'Avogadro = 6,022 x 10^23 et le nombre pi = 3,14159265359\"\n",
    "regex.sub('scoubidoubidou', affirmation  )"
   ]
  },
  {
   "cell_type": "code",
   "execution_count": null,
   "metadata": {},
   "outputs": [],
   "source": [
    "'''On peut aussi substituer des groupes de la regex:'''\n",
    "regex = re.compile(\"([0-9]+),([0-9]+)\") # Avec les () => groupes !\n",
    "affirmation = \"La constante d'Avogadro = 6,022 x 10^23 et le nombre pi = 3,14159265359\"\n",
    "regex.sub('environ \\\\1', affirmation ) # syntaxe avec 2 backslash => le premier pour Python, le 2eme pour la regex"
   ]
  },
  {
   "cell_type": "code",
   "execution_count": null,
   "metadata": {},
   "outputs": [],
   "source": [
    "'''Un autre exemple:'''\n",
    "regex.sub('environ \\\\1 (en fait: \\\\1,\\\\2)', affirmation )"
   ]
  },
  {
   "cell_type": "markdown",
   "metadata": {},
   "source": [
    "### Divers: à tester"
   ]
  },
  {
   "cell_type": "code",
   "execution_count": null,
   "metadata": {},
   "outputs": [],
   "source": [
    "#re.search('(pan)\\\\1', 'Bambi et panpan')\n",
    "#re.search('(pan)\\\\1', 'Le pistolet a fait pan')"
   ]
  },
  {
   "cell_type": "markdown",
   "metadata": {},
   "source": [
    "<h2 class='fa fa-cog' style=\"color: SeaGreen\"> Exercice 1: L'agent nettoyeur!</span> </h2> </br>"
   ]
  },
  {
   "cell_type": "markdown",
   "metadata": {},
   "source": [
    "Vous disposez du texte de Jean De La Fontaine : La cigale et la fourmi => voir fichier : LaCigale.txt \n",
    "\n",
    "Dans ce fichier, des espaces ont été saisis en trop. A vous de les corriger et d’enregistrer vos corrections dans un nouveau fichier (LaCigale_Correct.txt).\n",
    "\n",
    "* [La Cigale et la fourmi](LaCigale.txt)"
   ]
  },
  {
   "cell_type": "markdown",
   "metadata": {},
   "source": [
    "<h2 class='fa fa-cog' style=\"color: SeaGreen\"> Exercice 2: Visualisateur HTML</span> </h2> </br>"
   ]
  },
  {
   "cell_type": "markdown",
   "metadata": {},
   "source": [
    "On souhaite cette fois prendre un fichier .html, et le lire en ignorant les balises html (rappel : une balise html est constituée de : < nomBalise attributs >). Puis afficher le contenu de ce fichier à l’écran.\n",
    "\n",
    "* [Le fichier html proposé](Skeleton.html)\n",
    "\n",
    "Rmq: Vous êtes libre de prendre un autre fichier .html"
   ]
  }
 ],
 "metadata": {
  "kernelspec": {
   "display_name": "Python 3",
   "language": "python",
   "name": "python3"
  },
  "language_info": {
   "codemirror_mode": {
    "name": "ipython",
    "version": 3
   },
   "file_extension": ".py",
   "mimetype": "text/x-python",
   "name": "python",
   "nbconvert_exporter": "python",
   "pygments_lexer": "ipython3",
   "version": "3.7.7"
  }
 },
 "nbformat": 4,
 "nbformat_minor": 4
}
