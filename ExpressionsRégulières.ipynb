{
 "cells": [
  {
   "cell_type": "markdown",
   "metadata": {},
   "source": [
    "<h1 style=\"color: navy\">Les expressions regulières</h1>\n",
    " \n",
    "  ```                           #^0[1-68]([-. ]?[0-9]{2}){4}$# ```\n",
    " "
   ]
  },
  {
   "cell_type": "markdown",
   "metadata": {},
   "source": [
    "On désigne par \"*expressions régulières*\" ( ou encore par l'abbréviation **regex**: contraction de l'anglais *regular expressions*), une syntaxe permettant de représenter des modèles ou motif de chaine de caractère . </br>\n",
    "\n",
    "Voici un exemple de **regex**: </br>\n",
    "                                #^0[1-68]([-. ]?[0-9]{2}){4}$#  </br>  \n",
    "                                \n",
    "Cette regex permet d'indentifier dans un texte, tout numéro de téléphone ( à 10 chiffres), et ce quelquesoit le format de saisie utilisé. </br>\n",
    "Très utiles, les *regex* sont présentes dans de nombreux langages: PHP; MySQL;Javascript; et également avec le langage Python (sous la forme du module **re**) </br>\n",
    "\n",
    "On les trouve aussi dans des éditeur de texte (EDI) tels que: notepad++ ou Geany:\n",
    "![image_1](Regex1.png)\n",
    "ainsi que les programmes: egrep ou sed dans l'environnement Linux.\n",
    "\n",
    "Les expressions régulières sont utiles pour \"fouiller\" dans un fichier, à la recherche d'un texte. On parle alors de **parsing** (pour analyse syntaxique)."
   ]
  },
  {
   "cell_type": "markdown",
   "metadata": {},
   "source": [
    "Une expression régulière est une suite de caractères qui a pour but de décrire un fragment de texte. \n",
    "Cette suite de caractères est appelée *motif* (ou *pattern* en anglais). Ce motif est constitué de deux types de caractères: \n",
    "- Les caractères dits normaux.\n",
    "- Les métacaractères ayant une signification particulière, par exemple le caractère ^ signifie début de ligne et non pas le caractère « chapeau » au sens littéral."
   ]
  },
  {
   "cell_type": "markdown",
   "metadata": {},
   "source": [
    "#### Quelques éléments de syntaxe des métacaractères :\n",
    "\n",
    "- Tester les regex suivantes dans un éditeur de texte:\n",
    "\n",
    "La *regex* `^ATG` dans les chaînes de caractère `ATGCGT` ou `CCATGTT`.  Commentaire ?   \n",
    "La *regex* `ATG$` dans les chaînes de caractères `TGCATG` ou `CCATGTT`. Commentaire ?   \n",
    "La *regex* `A.G` dans `ATG`, `AtG`, `A4G`, `A-G` ou dans `A G`. Commentaire ?   \n",
    "La *regex* `T[ABC]G` dans `TAG`, `TBG` `TCG` ou `TG`.  Commentaire ?  \n",
    "La *regex* `C[A-Z]T` dans `CAT`, `CBT`, `CCT`.  Commentaire ?  \n",
    "La *regex* `CG[^AB]T`dans `CG9T`, `CGCT` ou `CGAT` et `CGBT`. Commentaire ?  \n",
    "La *regex* `\\+` désigne le caractère `+` littéral (caractère d'échappement '\\'  ==> la *regex* `A\\.G` est retrouvée dans `A.G` mais pas dans `AG`. A vérifier. Conclusion ?  \n",
    "La *regex* `A(CG)*T` dans `AT`, `ACGT`, `ACGCGT`. Commentaire ?    \n",
    "La *regex* `A(CG)+T` dans `ACGT`, `ACGCGT` et `AT`.  Commentaire ? \n",
    "La *regex* `A(CG)?T` dans `AT` ou `ACGT`.     \n",
    "La *regex* `A(CG){2}T` dans `ACGCGT` ou `ACGT`, `ACGCGCGT` ou encore `ACGCG`.  \n",
    "La *regex* `A(C){2,4}T` dans `ACCT`, `ACCCT` et `ACCCCT` ou dans `ACT`, `ACCCCCT` ou encore `ACCC`.    \n",
    "La *regex* `A(C){2,}T` dans `ACCT`, `ACCCT` et `ACCCCT` et `ACT` ou `ACCC`.   \n",
    "La *regex* `A(C){,2}T` dans `AT`, `ACT`, `ACCT` ou `ACCCT` et `ACC`.   \n",
    "La *regex* `A(CG|TT)C` dans `ACGC` ou `ATTC`.     \n"
   ]
  },
  {
   "cell_type": "markdown",
   "metadata": {},
   "source": [
    "#### Quelques ressources en ligne:\n",
    "\n",
    " * [Un tutoriel](https://regexone.com/) \n",
    " * [Pour visualiser les regex](https://regexr.com/) \n",
    " * [Une documentation exhaustive](https://www.regular-expressions.info) \n",
    " * [Interface](https://pythex.org/)\n"
   ]
  }
 ],
 "metadata": {
  "kernelspec": {
   "display_name": "Python 3",
   "language": "python",
   "name": "python3"
  },
  "language_info": {
   "codemirror_mode": {
    "name": "ipython",
    "version": 3
   },
   "file_extension": ".py",
   "mimetype": "text/x-python",
   "name": "python",
   "nbconvert_exporter": "python",
   "pygments_lexer": "ipython3",
   "version": "3.7.7"
  }
 },
 "nbformat": 4,
 "nbformat_minor": 4
}
